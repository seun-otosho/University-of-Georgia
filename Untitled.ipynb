{
 "cells": [
  {
   "cell_type": "code",
   "execution_count": 1,
   "id": "cc18332d-0cb1-4215-b229-af592f798104",
   "metadata": {},
   "outputs": [
    {
     "data": {
      "text/plain": [
       "['t', 'u', 'e', 's', 'd', 'a', 'y']"
      ]
     },
     "execution_count": 1,
     "metadata": {},
     "output_type": "execute_result"
    }
   ],
   "source": [
    "list('tuesday')"
   ]
  },
  {
   "cell_type": "code",
   "execution_count": 2,
   "id": "0f4545c2-dff1-456f-9a35-5f3391fba9c8",
   "metadata": {},
   "outputs": [
    {
     "data": {
      "text/plain": [
       "['t', 'u', 'e', 's', 'd', 'a', 'y']"
      ]
     },
     "execution_count": 2,
     "metadata": {},
     "output_type": "execute_result"
    }
   ],
   "source": [
    "tl = list('tuesday')\n",
    "tl"
   ]
  },
  {
   "cell_type": "code",
   "execution_count": 3,
   "id": "519ff38d-e086-406a-b067-21e855833cf7",
   "metadata": {},
   "outputs": [
    {
     "data": {
      "text/plain": [
       "['a', 'd', 'e', 's', 't', 'u', 'y']"
      ]
     },
     "execution_count": 3,
     "metadata": {},
     "output_type": "execute_result"
    }
   ],
   "source": [
    "sorted(tl)"
   ]
  },
  {
   "cell_type": "code",
   "execution_count": 4,
   "id": "3275bb1d-f284-4f8f-a93f-375487f69dbb",
   "metadata": {},
   "outputs": [
    {
     "data": {
      "text/plain": [
       "['t', 'u', 'e', 's', 'd', 'a', 'y']"
      ]
     },
     "execution_count": 4,
     "metadata": {},
     "output_type": "execute_result"
    }
   ],
   "source": [
    "tl"
   ]
  },
  {
   "cell_type": "code",
   "execution_count": 5,
   "id": "cb390880-6197-485b-a13a-aa2adff527c5",
   "metadata": {},
   "outputs": [
    {
     "data": {
      "text/plain": [
       "[]"
      ]
     },
     "execution_count": 5,
     "metadata": {},
     "output_type": "execute_result"
    }
   ],
   "source": [
    "sorted(list())"
   ]
  },
  {
   "cell_type": "code",
   "execution_count": null,
   "id": "d508b144-bc6c-4729-84c5-4053c7332d0b",
   "metadata": {},
   "outputs": [],
   "source": []
  }
 ],
 "metadata": {
  "kernelspec": {
   "display_name": "Python 3 (ipykernel)",
   "language": "python",
   "name": "python3"
  },
  "language_info": {
   "codemirror_mode": {
    "name": "ipython",
    "version": 3
   },
   "file_extension": ".py",
   "mimetype": "text/x-python",
   "name": "python",
   "nbconvert_exporter": "python",
   "pygments_lexer": "ipython3",
   "version": "3.9.6"
  }
 },
 "nbformat": 4,
 "nbformat_minor": 5
}

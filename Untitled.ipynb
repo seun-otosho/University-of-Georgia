{
 "cells": [
  {
   "cell_type": "code",
   "execution_count": 3,
   "id": "cc18332d-0cb1-4215-b229-af592f798104",
   "metadata": {},
   "outputs": [],
   "source": [
    "import matplotlib.pyplot as plt\n",
    "import numpy as np"
   ]
  },
  {
   "cell_type": "code",
   "execution_count": 5,
   "id": "0f4545c2-dff1-456f-9a35-5f3391fba9c8",
   "metadata": {},
   "outputs": [],
   "source": [
    "from trstats import main"
   ]
  },
  {
   "cell_type": "code",
   "execution_count": 6,
   "id": "519ff38d-e086-406a-b067-21e855833cf7",
   "metadata": {},
   "outputs": [
    {
     "name": "stderr",
     "output_type": "stream",
     "text": [
      "72880 - 139739921254208 @ 2021-09-07 12:10:27,092 {module:131  -               main()} INFO - argv = ['-t', 'deescraftco.com']\n",
      "72880 - 139739921254208 @ 2021-09-07 12:10:27,096 {module:133  -               main()} INFO - sys.argv = ['/home/oomotosho/PycharmProjects/venv/lib/python3.9/site-packages/ipykernel_launcher.py', '-f', '/home/oomotosho/.local/share/jupyter/runtime/kernel-64e9444c-da83-4c67-abe4-601fe54ea7ba.json']\n",
      "usage: ipykernel_launcher.py [-h] [-n NUM_RUNS] [-d RUN_DELAY] [-m MAX_HOPS]\n",
      "                             [-o OUTPUT] [-g GRAPH] [-t TARGET]\n",
      "                             [--test TEST_DIR]\n",
      "ipykernel_launcher.py: error: unrecognized arguments: -f /home/oomotosho/.local/share/jupyter/runtime/kernel-64e9444c-da83-4c67-abe4-601fe54ea7ba.json\n"
     ]
    },
    {
     "ename": "SystemExit",
     "evalue": "2",
     "output_type": "error",
     "traceback": [
      "An exception has occurred, use %tb to see the full traceback.\n",
      "\u001b[0;31mSystemExit\u001b[0m\u001b[0;31m:\u001b[0m 2\n"
     ]
    },
    {
     "name": "stderr",
     "output_type": "stream",
     "text": [
      "/home/oomotosho/PycharmProjects/venv/lib/python3.9/site-packages/IPython/core/interactiveshell.py:3449: UserWarning: To exit: use 'exit', 'quit', or Ctrl-D.\n",
      "  warn(\"To exit: use 'exit', 'quit', or Ctrl-D.\", stacklevel=1)\n"
     ]
    }
   ],
   "source": [
    "data = main(['-t', 'deescraftco.com', ])\n",
    "data"
   ]
  },
  {
   "cell_type": "code",
   "execution_count": 4,
   "id": "3275bb1d-f284-4f8f-a93f-375487f69dbb",
   "metadata": {},
   "outputs": [
    {
     "data": {
      "text/plain": [
       "['t', 'u', 'e', 's', 'd', 'a', 'y']"
      ]
     },
     "execution_count": 4,
     "metadata": {},
     "output_type": "execute_result"
    }
   ],
   "source": [
    "tl"
   ]
  },
  {
   "cell_type": "code",
   "execution_count": 5,
   "id": "cb390880-6197-485b-a13a-aa2adff527c5",
   "metadata": {},
   "outputs": [
    {
     "data": {
      "text/plain": [
       "[]"
      ]
     },
     "execution_count": 5,
     "metadata": {},
     "output_type": "execute_result"
    }
   ],
   "source": [
    "sorted(list())"
   ]
  },
  {
   "cell_type": "code",
   "execution_count": null,
   "id": "d508b144-bc6c-4729-84c5-4053c7332d0b",
   "metadata": {},
   "outputs": [],
   "source": []
  }
 ],
 "metadata": {
  "kernelspec": {
   "display_name": "Python 3 (ipykernel)",
   "language": "python",
   "name": "python3"
  },
  "language_info": {
   "codemirror_mode": {
    "name": "ipython",
    "version": 3
   },
   "file_extension": ".py",
   "mimetype": "text/x-python",
   "name": "python",
   "nbconvert_exporter": "python",
   "pygments_lexer": "ipython3",
   "version": "3.9.6"
  }
 },
 "nbformat": 4,
 "nbformat_minor": 5
}
